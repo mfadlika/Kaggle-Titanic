{
 "cells": [
  {
   "cell_type": "markdown",
   "id": "079fb05a",
   "metadata": {},
   "source": [
    "# Titanic Survival Prediction"
   ]
  },
  {
   "cell_type": "code",
   "execution_count": 27,
   "id": "7cbdc2e8",
   "metadata": {},
   "outputs": [],
   "source": [
    "import pandas as pd\n",
    "\n",
    "train_df = pd.read_csv('train.csv')\n",
    "test_df = pd.read_csv('test.csv')"
   ]
  },
  {
   "cell_type": "code",
   "execution_count": 28,
   "id": "1d8d5b52",
   "metadata": {},
   "outputs": [
    {
     "data": {
      "text/html": [
       "<div>\n",
       "<style scoped>\n",
       "    .dataframe tbody tr th:only-of-type {\n",
       "        vertical-align: middle;\n",
       "    }\n",
       "\n",
       "    .dataframe tbody tr th {\n",
       "        vertical-align: top;\n",
       "    }\n",
       "\n",
       "    .dataframe thead th {\n",
       "        text-align: right;\n",
       "    }\n",
       "</style>\n",
       "<table border=\"1\" class=\"dataframe\">\n",
       "  <thead>\n",
       "    <tr style=\"text-align: right;\">\n",
       "      <th></th>\n",
       "      <th>PassengerId</th>\n",
       "      <th>Survived</th>\n",
       "      <th>Pclass</th>\n",
       "      <th>Name</th>\n",
       "      <th>Sex</th>\n",
       "      <th>Age</th>\n",
       "      <th>SibSp</th>\n",
       "      <th>Parch</th>\n",
       "      <th>Ticket</th>\n",
       "      <th>Fare</th>\n",
       "      <th>Cabin</th>\n",
       "      <th>Embarked</th>\n",
       "    </tr>\n",
       "  </thead>\n",
       "  <tbody>\n",
       "    <tr>\n",
       "      <th>0</th>\n",
       "      <td>1</td>\n",
       "      <td>0</td>\n",
       "      <td>3</td>\n",
       "      <td>Braund, Mr. Owen Harris</td>\n",
       "      <td>male</td>\n",
       "      <td>22.0</td>\n",
       "      <td>1</td>\n",
       "      <td>0</td>\n",
       "      <td>A/5 21171</td>\n",
       "      <td>7.2500</td>\n",
       "      <td>NaN</td>\n",
       "      <td>S</td>\n",
       "    </tr>\n",
       "    <tr>\n",
       "      <th>1</th>\n",
       "      <td>2</td>\n",
       "      <td>1</td>\n",
       "      <td>1</td>\n",
       "      <td>Cumings, Mrs. John Bradley (Florence Briggs Th...</td>\n",
       "      <td>female</td>\n",
       "      <td>38.0</td>\n",
       "      <td>1</td>\n",
       "      <td>0</td>\n",
       "      <td>PC 17599</td>\n",
       "      <td>71.2833</td>\n",
       "      <td>C85</td>\n",
       "      <td>C</td>\n",
       "    </tr>\n",
       "    <tr>\n",
       "      <th>2</th>\n",
       "      <td>3</td>\n",
       "      <td>1</td>\n",
       "      <td>3</td>\n",
       "      <td>Heikkinen, Miss. Laina</td>\n",
       "      <td>female</td>\n",
       "      <td>26.0</td>\n",
       "      <td>0</td>\n",
       "      <td>0</td>\n",
       "      <td>STON/O2. 3101282</td>\n",
       "      <td>7.9250</td>\n",
       "      <td>NaN</td>\n",
       "      <td>S</td>\n",
       "    </tr>\n",
       "    <tr>\n",
       "      <th>3</th>\n",
       "      <td>4</td>\n",
       "      <td>1</td>\n",
       "      <td>1</td>\n",
       "      <td>Futrelle, Mrs. Jacques Heath (Lily May Peel)</td>\n",
       "      <td>female</td>\n",
       "      <td>35.0</td>\n",
       "      <td>1</td>\n",
       "      <td>0</td>\n",
       "      <td>113803</td>\n",
       "      <td>53.1000</td>\n",
       "      <td>C123</td>\n",
       "      <td>S</td>\n",
       "    </tr>\n",
       "    <tr>\n",
       "      <th>4</th>\n",
       "      <td>5</td>\n",
       "      <td>0</td>\n",
       "      <td>3</td>\n",
       "      <td>Allen, Mr. William Henry</td>\n",
       "      <td>male</td>\n",
       "      <td>35.0</td>\n",
       "      <td>0</td>\n",
       "      <td>0</td>\n",
       "      <td>373450</td>\n",
       "      <td>8.0500</td>\n",
       "      <td>NaN</td>\n",
       "      <td>S</td>\n",
       "    </tr>\n",
       "  </tbody>\n",
       "</table>\n",
       "</div>"
      ],
      "text/plain": [
       "   PassengerId  Survived  Pclass  \\\n",
       "0            1         0       3   \n",
       "1            2         1       1   \n",
       "2            3         1       3   \n",
       "3            4         1       1   \n",
       "4            5         0       3   \n",
       "\n",
       "                                                Name     Sex   Age  SibSp  \\\n",
       "0                            Braund, Mr. Owen Harris    male  22.0      1   \n",
       "1  Cumings, Mrs. John Bradley (Florence Briggs Th...  female  38.0      1   \n",
       "2                             Heikkinen, Miss. Laina  female  26.0      0   \n",
       "3       Futrelle, Mrs. Jacques Heath (Lily May Peel)  female  35.0      1   \n",
       "4                           Allen, Mr. William Henry    male  35.0      0   \n",
       "\n",
       "   Parch            Ticket     Fare Cabin Embarked  \n",
       "0      0         A/5 21171   7.2500   NaN        S  \n",
       "1      0          PC 17599  71.2833   C85        C  \n",
       "2      0  STON/O2. 3101282   7.9250   NaN        S  \n",
       "3      0            113803  53.1000  C123        S  \n",
       "4      0            373450   8.0500   NaN        S  "
      ]
     },
     "execution_count": 28,
     "metadata": {},
     "output_type": "execute_result"
    }
   ],
   "source": [
    "df = train_df\n",
    "df_test = test_df\n",
    "df.head()"
   ]
  },
  {
   "cell_type": "code",
   "execution_count": 29,
   "id": "83ad6fc5",
   "metadata": {},
   "outputs": [
    {
     "name": "stdout",
     "output_type": "stream",
     "text": [
      "Titanic Passanger in Data Training: 891 people (68.07 %)\n",
      "Titanic Passanger in Data Testing: 418 people (31.93 %)\n",
      "Titanic Passanger in Total: 1309 people\n"
     ]
    }
   ],
   "source": [
    "passenger_in_training = df['PassengerId'].count()\n",
    "passenger_in_testing = df_test['PassengerId'].count()\n",
    "total_passenger = passenger_in_training + passenger_in_testing\n",
    "\n",
    "print(f\"Titanic Passanger in Data Training: {passenger_in_training} people ({passenger_in_training / total_passenger * 100:.2f} %)\")\n",
    "print(f\"Titanic Passanger in Data Testing: {passenger_in_testing} people ({passenger_in_testing / total_passenger * 100:.2f} %)\")\n",
    "print(f\"Titanic Passanger in Total: {total_passenger} people\")"
   ]
  },
  {
   "cell_type": "markdown",
   "id": "2a750ea9",
   "metadata": {},
   "source": [
    "After gathering the total number of Titanic Passengers, we simply continue to compare the ratio of males to females,\n",
    "knowing that most of the survivors back then were women due to the rule that prioritized women and children."
   ]
  },
  {
   "cell_type": "code",
   "execution_count": 35,
   "id": "9c4e7026",
   "metadata": {},
   "outputs": [
    {
     "name": "stdout",
     "output_type": "stream",
     "text": [
      "### In Data Training ###\n",
      "\n",
      "Titanic Passanger Male: 577 people (64.76 %)\n",
      "Titanic Passanger Female: 314 people (35.24 %)\n",
      "\n",
      "### In Data Testing ###\n",
      "\n",
      "Titanic Passanger Male: 266 people (63.64 %)\n",
      "Titanic Passanger Female: 152 people (36.36 %)\n"
     ]
    }
   ],
   "source": [
    "print(\"### In Data Training ###\\n\")\n",
    "\n",
    "male_count = df[df['Sex'] == \"male\"].shape[0]\n",
    "female_count = df[df['Sex'] == \"female\"].shape[0]\n",
    "total_train = male_count + female_count\n",
    "\n",
    "print(f\"Titanic Passanger Male: {male_count} people ({male_count / total_train * 100:.2f} %)\")\n",
    "print(f\"Titanic Passanger Female: {female_count} people ({female_count / total_train * 100:.2f} %)\")\n",
    "\n",
    "print(\"\\n### In Data Testing ###\\n\")\n",
    "\n",
    "male_count = df_test[df_test['Sex'] == \"male\"].shape[0]\n",
    "female_count = df_test[df_test['Sex'] == \"female\"].shape[0]\n",
    "total_test = male_count + female_count\n",
    "\n",
    "print(f\"Titanic Passanger Male: {male_count} people ({male_count / total_test * 100:.2f} %)\")\n",
    "print(f\"Titanic Passanger Female: {female_count} people ({female_count / total_test * 100:.2f} %)\")\n"
   ]
  },
  {
   "cell_type": "code",
   "execution_count": null,
   "id": "37358d6d",
   "metadata": {},
   "outputs": [
    {
     "name": "stdout",
     "output_type": "stream",
     "text": [
      "                   Total  Survived Count  Survival Rate Persentase\n",
      "Male Data Train      577           109.0       0.188908     44.08%\n",
      "Female Data Train    314           233.0       0.742038     23.99%\n",
      "Total               1309           342.0       0.261268    100.00%\n"
     ]
    }
   ],
   "source": [
    "import pandas as pd\n",
    "\n",
    "# Male and Female data for training\n",
    "male_train = df[df['Sex'] == 'male']\n",
    "female_train = df[df['Sex'] == 'female']\n",
    "\n",
    "# Function to calculate total, survived count, and survival rate for training data\n",
    "def calculate_metrics(df, is_train=True):\n",
    "    total = len(df)\n",
    "    survived_count = df['Survived'].sum() if is_train else 0  # Jumlah penumpang yang selamat (hanya untuk training)\n",
    "    survival_rate = survived_count / total if total > 0 else 0\n",
    "    return total, survived_count, survival_rate\n",
    "\n",
    "# Data for male_train, female_train\n",
    "male_train_metrics = calculate_metrics(male_train)\n",
    "female_train_metrics = calculate_metrics(female_train)\n",
    "\n",
    "# Total Data\n",
    "total_data = calculate_metrics(pd.concat([df, df_test], ignore_index=True))\n",
    "\n",
    "# DataFrame for table\n",
    "data = {\n",
    "    'Total': [male_train_metrics[0], female_train_metrics[0], total_data[0]],\n",
    "    'Survived Count': [male_train_metrics[1], female_train_metrics[1], total_data[1]],\n",
    "    'Survival Rate': [male_train_metrics[2], female_train_metrics[2], total_data[2]],\n",
    "    'Persentase': [f\"{(male_train_metrics[0] / total_data[0]) * 100:.2f}%\", f\"{(female_train_metrics[0] / total_data[0]) * 100:.2f}%\", \"100.00%\"]\n",
    "}\n",
    "\n",
    "df_summary = pd.DataFrame(data, index=['Male Data Train', 'Female Data Train', 'Total'])\n",
    "\n",
    "print(df_summary)"
   ]
  },
  {
   "cell_type": "code",
   "execution_count": null,
   "id": "6730f920",
   "metadata": {},
   "outputs": [],
   "source": []
  }
 ],
 "metadata": {
  "kernelspec": {
   "display_name": "Python 3",
   "language": "python",
   "name": "python3"
  },
  "language_info": {
   "codemirror_mode": {
    "name": "ipython",
    "version": 3
   },
   "file_extension": ".py",
   "mimetype": "text/x-python",
   "name": "python",
   "nbconvert_exporter": "python",
   "pygments_lexer": "ipython3",
   "version": "3.10.5"
  }
 },
 "nbformat": 4,
 "nbformat_minor": 5
}
